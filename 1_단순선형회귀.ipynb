# 선형회귀의 오차를 계산하는 코드입니다.
import numpy as np

def mse(y_hat, y):
    return ((y_hat - y) ** 2).mean()

x = np.array([1,2,3]) # 독립 변수
y = np.array([1,2,3]) # 종속 변수

# 임의의 값으로 설정합니다.
w = 0 # 가중치(기울기)
b = 0 # 바이어스(절편)

y_hat = w * x # + b, 편의상 바이어스는 생략합니다.
err = mse(y_hat, y)
print(f"err: {err:f}")
